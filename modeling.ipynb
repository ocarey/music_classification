{
 "cells": [
  {
   "cell_type": "markdown",
   "metadata": {},
   "source": [
    "# Modeling"
   ]
  },
  {
   "cell_type": "code",
   "execution_count": 1,
   "metadata": {},
   "outputs": [
    {
     "name": "stderr",
     "output_type": "stream",
     "text": [
      "C:\\Users\\Owen\\Anaconda3\\lib\\site-packages\\sklearn\\cross_validation.py:41: DeprecationWarning: This module was deprecated in version 0.18 in favor of the model_selection module into which all the refactored classes and functions are moved. Also note that the interface of the new CV iterators are different from that of this module. This module will be removed in 0.20.\n",
      "  \"This module will be removed in 0.20.\", DeprecationWarning)\n",
      "C:\\Users\\Owen\\Anaconda3\\lib\\site-packages\\sklearn\\grid_search.py:42: DeprecationWarning: This module was deprecated in version 0.18 in favor of the model_selection module into which all the refactored classes and functions are moved. This module will be removed in 0.20.\n",
      "  DeprecationWarning)\n"
     ]
    }
   ],
   "source": [
    "# Imports\n",
    "import pickle\n",
    "import logging\n",
    "import pandas as pd\n",
    "from sklearn.cross_validation import train_test_split\n",
    "from sklearn.grid_search import GridSearchCV\n",
    "from sklearn import metrics\n",
    "from sklearn.metrics import make_scorer, accuracy_score\n",
    "from sklearn.pipeline import Pipeline\n",
    "from sklearn.preprocessing import StandardScaler\n",
    "from sklearn.svm import SVC\n",
    "from sklearn.linear_model import LogisticRegression\n",
    "from sklearn.neighbors import KNeighborsClassifier\n",
    "from sklearn.naive_bayes import GaussianNB\n",
    "from sklearn.tree import DecisionTreeClassifier\n",
    "from sklearn.ensemble import RandomForestClassifier"
   ]
  },
  {
   "cell_type": "markdown",
   "metadata": {},
   "source": [
    "# Logistic Grid Search"
   ]
  },
  {
   "cell_type": "code",
   "execution_count": 2,
   "metadata": {},
   "outputs": [
    {
     "name": "stderr",
     "output_type": "stream",
     "text": [
      "INFO:root:Begin main\n",
      "INFO:root:Begin extract\n",
      "INFO:root:X shape: (1774, 9), y shape: (1774,)\n",
      "INFO:root:Begin Transformation\n",
      "INFO:root:Begin model\n"
     ]
    },
    {
     "name": "stdout",
     "output_type": "stream",
     "text": [
      "0.801125703564728\n",
      "             precision    recall  f1-score   support\n",
      "\n",
      " Nickelback      0.773     0.822     0.797       253\n",
      "    Pitbull      0.830     0.782     0.805       280\n",
      "\n",
      "avg / total      0.803     0.801     0.801       533\n",
      "\n",
      "Best parameters set found on development set:\n",
      "{'logistic__C': 1.1, 'scale__with_mean': False, 'scale__with_std': True}\n",
      "\n"
     ]
    }
   ],
   "source": [
    "from sklearn.linear_model import LogisticRegression\n",
    "\n",
    "def logistic_grid():\n",
    "    \"\"\"Logistic Regression Grid Search.\"\"\"\n",
    "    \n",
    "    # Set up\n",
    "    logging.getLogger().setLevel(logging.DEBUG)\n",
    "    logging.info('Begin main')\n",
    "\n",
    "    # Extract\n",
    "    logging.info('Begin extract')\n",
    "    df = pickle.load(open(\"df_music.pkl\", \"rb\"))\n",
    "    y = df['Artist']\n",
    "    X = df.drop('Artist', axis = 1)\n",
    "    logging.info('X shape: {}, y shape: {}'.format(X.shape, y.shape))\n",
    "\n",
    "    # Transform\n",
    "    logging.info('Begin Transformation')\n",
    "    X_train, X_test, y_train, y_test = train_test_split(X, y, test_size=.3, random_state = 444)\n",
    "\n",
    "    # Model\n",
    "    logging.info('Begin model')\n",
    "    pipe = Pipeline([\n",
    "        ('scale', StandardScaler()),\n",
    "        ('logistic', LogisticRegression())\n",
    "    ])\n",
    "\n",
    "    param_grid = {\n",
    "        'scale__with_mean': [True, False],\n",
    "        'scale__with_std': [True, False],\n",
    "        'logistic__C': [0.0001, 0.001, 0.01, 0.1, 0.9, 1, 1.1, 1.2, 1.3, 1.4, 5, 10, 100, 1000],\n",
    "    }\n",
    "    \n",
    "    grid = GridSearchCV(pipe, cv=10, n_jobs=-1, param_grid=param_grid, scoring=make_scorer(accuracy_score))\n",
    "\n",
    "    grid.fit(X_train, y_train)\n",
    "\n",
    "    y_pred = grid.predict(X_test)\n",
    "\n",
    "    # Calculate different metrics\n",
    "    print(metrics.accuracy_score(y_test, y_pred))\n",
    "    print(metrics.classification_report(y_test, y_pred, digits=3))\n",
    "    \n",
    "    print('Best parameters set found on development set:')\n",
    "    print(grid.best_params_)\n",
    "    print()\n",
    "    \n",
    "    # Save\n",
    "    #pickle.dump(grid, open('logistic_grid.pkl', 'wb'))\n",
    "    #pickle.dump(y_preds, open('y_preds_log_grid.pkl', 'wb'))\n",
    "\n",
    "if __name__ == '__main__':\n",
    "    logistic_grid()"
   ]
  },
  {
   "cell_type": "markdown",
   "metadata": {},
   "source": [
    "# KNN Grid Search"
   ]
  },
  {
   "cell_type": "code",
   "execution_count": 3,
   "metadata": {},
   "outputs": [
    {
     "name": "stderr",
     "output_type": "stream",
     "text": [
      "INFO:root:Begin main\n",
      "INFO:root:Begin extract\n",
      "INFO:root:X shape: (1774, 9), y shape: (1774,)\n",
      "INFO:root:Begin Transformation\n",
      "INFO:root:Begin model\n"
     ]
    },
    {
     "name": "stdout",
     "output_type": "stream",
     "text": [
      "0.9118198874296435\n",
      "             precision    recall  f1-score   support\n",
      "\n",
      " Nickelback      0.909     0.905     0.907       253\n",
      "    Pitbull      0.915     0.918     0.916       280\n",
      "\n",
      "avg / total      0.912     0.912     0.912       533\n",
      "\n",
      "Best parameters set found on development set:\n",
      "{'knn__n_neighbors': 1, 'scale__with_mean': True, 'scale__with_std': True}\n",
      "\n"
     ]
    }
   ],
   "source": [
    "from sklearn.neighbors import KNeighborsClassifier\n",
    "\n",
    "def knn_grid():\n",
    "    \"\"\"KNN grid search.\"\"\"\n",
    "    \n",
    "    # Set up\n",
    "    logging.getLogger().setLevel(logging.DEBUG)\n",
    "    logging.info('Begin main')\n",
    "\n",
    "    # Extract\n",
    "    logging.info('Begin extract')\n",
    "    df = pickle.load(open(\"df_music.pkl\", \"rb\"))\n",
    "    y = df['Artist']\n",
    "    X = df.drop('Artist', axis = 1)\n",
    "    logging.info('X shape: {}, y shape: {}'.format(X.shape, y.shape))\n",
    "\n",
    "    # Transform\n",
    "    logging.info('Begin Transformation')\n",
    "    X_train, X_test, y_train, y_test = train_test_split(X, y, test_size=.3, random_state = 444)\n",
    "\n",
    "    # Model\n",
    "    logging.info('Begin model')\n",
    "    pipe = Pipeline([\n",
    "        ('scale', StandardScaler()),\n",
    "        ('knn', KNeighborsClassifier())\n",
    "    ])\n",
    "\n",
    "    param_grid = {\n",
    "        'scale__with_mean': [True, False],\n",
    "        'scale__with_std': [True, False],\n",
    "        'knn__n_neighbors': list(range(1,5)),\n",
    "    }\n",
    "    \n",
    "    grid = GridSearchCV(pipe, cv=10, n_jobs=-1, param_grid=param_grid, scoring=make_scorer(accuracy_score))\n",
    "\n",
    "    grid.fit(X_train, y_train)\n",
    "\n",
    "    y_pred = grid.predict(X_test)\n",
    "\n",
    "    # Calculate different metrics\n",
    "    print(metrics.accuracy_score(y_test, y_pred))\n",
    "    print(metrics.classification_report(y_test, y_pred, digits=3))\n",
    "    \n",
    "    print('Best parameters set found on development set:')\n",
    "    print(grid.best_params_)\n",
    "    print()\n",
    "    \n",
    "    # Save\n",
    "    #pickle.dump(grid, open('logistic_grid.pkl', 'wb'))\n",
    "    #pickle.dump(y_preds, open('y_preds_log_grid.pkl', 'wb'))\n",
    "\n",
    "if __name__ == '__main__':\n",
    "    knn_grid()"
   ]
  },
  {
   "cell_type": "markdown",
   "metadata": {},
   "source": [
    "# SVM Grid Search"
   ]
  },
  {
   "cell_type": "code",
   "execution_count": 4,
   "metadata": {},
   "outputs": [
    {
     "name": "stderr",
     "output_type": "stream",
     "text": [
      "INFO:root:Begin main\n",
      "INFO:root:Begin extract\n",
      "INFO:root:X shape: (1774, 9), y shape: (1774,)\n",
      "INFO:root:Begin Transformation\n",
      "INFO:root:Begin model\n"
     ]
    },
    {
     "name": "stdout",
     "output_type": "stream",
     "text": [
      "0.8968105065666041\n",
      "             precision    recall  f1-score   support\n",
      "\n",
      " Nickelback      0.902     0.877     0.890       253\n",
      "    Pitbull      0.892     0.914     0.903       280\n",
      "\n",
      "avg / total      0.897     0.897     0.897       533\n",
      "\n",
      "Best parameters set found on development set:\n",
      "{'scale__with_mean': True, 'scale__with_std': True, 'svm__kernel': 'rbf'}\n",
      "\n"
     ]
    }
   ],
   "source": [
    "from sklearn.svm import SVC\n",
    "\n",
    "def svm_grid():\n",
    "    \"\"\"SVM grid search.\"\"\"\n",
    "    \n",
    "    # Set up\n",
    "    logging.getLogger().setLevel(logging.DEBUG)\n",
    "    logging.info('Begin main')\n",
    "\n",
    "    # Extract\n",
    "    logging.info('Begin extract')\n",
    "    df = pickle.load(open(\"df_music.pkl\", \"rb\"))\n",
    "    y = df['Artist']\n",
    "    X = df.drop('Artist', axis = 1)\n",
    "    logging.info('X shape: {}, y shape: {}'.format(X.shape, y.shape))\n",
    "\n",
    "    # Transform\n",
    "    logging.info('Begin Transformation')\n",
    "    X_train, X_test, y_train, y_test = train_test_split(X, y, test_size=.3, random_state = 444)\n",
    "\n",
    "    # Model\n",
    "    logging.info('Begin model')\n",
    "    pipe = Pipeline([\n",
    "        ('scale', StandardScaler()),\n",
    "        ('svm', SVC())\n",
    "    ])\n",
    "\n",
    "    param_grid = {\n",
    "        'scale__with_mean': [True, False],\n",
    "        'scale__with_std': [True, False],\n",
    "        'svm__kernel': ['rbf'],\n",
    "    }\n",
    "    \n",
    "    grid = GridSearchCV(pipe, cv=10, n_jobs=-1, param_grid=param_grid, scoring=make_scorer(accuracy_score))\n",
    "\n",
    "    grid.fit(X_train, y_train)\n",
    "\n",
    "    y_pred = grid.predict(X_test)\n",
    "\n",
    "    # Calculate different metrics\n",
    "    print(metrics.accuracy_score(y_test, y_pred))\n",
    "    print(metrics.classification_report(y_test, y_pred, digits=3))\n",
    "    \n",
    "    # Print best parameters\n",
    "    print('Best parameters set found on development set:')\n",
    "    print(grid.best_params_)\n",
    "    print()\n",
    "    \n",
    "    # Save\n",
    "    #pickle.dump(grid, open('grid.pkl', 'wb'))\n",
    "    #pickle.dump(y_preds, open('y_preds.pkl', 'wb'))\n",
    "\n",
    "if __name__ == '__main__':\n",
    "    svm_grid()"
   ]
  },
  {
   "cell_type": "markdown",
   "metadata": {},
   "source": [
    "# Gaussian Naive Bayes Grid Search"
   ]
  },
  {
   "cell_type": "code",
   "execution_count": 5,
   "metadata": {},
   "outputs": [
    {
     "name": "stderr",
     "output_type": "stream",
     "text": [
      "INFO:root:Begin extract\n",
      "INFO:root:X shape: (1774, 9), y shape: (1774,)\n",
      "INFO:root:Begin Transformation\n"
     ]
    },
    {
     "name": "stdout",
     "output_type": "stream",
     "text": [
      "0.7654784240150094\n",
      "             precision    recall  f1-score   support\n",
      "\n",
      " Nickelback      0.704     0.874     0.780       253\n",
      "    Pitbull      0.854     0.668     0.749       280\n",
      "\n",
      "avg / total      0.783     0.765     0.764       533\n",
      "\n"
     ]
    }
   ],
   "source": [
    "from sklearn.naive_bayes import GaussianNB\n",
    "\n",
    "logging.getLogger().setLevel(logging.DEBUG)\n",
    "\n",
    "# Extract\n",
    "logging.info('Begin extract')\n",
    "df = pickle.load(open(\"df_music.pkl\", \"rb\"))\n",
    "y = df['Artist']\n",
    "X = df.drop('Artist', axis = 1)\n",
    "logging.info('X shape: {}, y shape: {}'.format(X.shape, y.shape))\n",
    "\n",
    "# Transform\n",
    "logging.info('Begin Transformation')\n",
    "X_train, X_test, y_train, y_test = train_test_split(X, y, test_size=.3, random_state = 444)\n",
    "\n",
    "# Fit and predict\n",
    "gnb = GaussianNB()\n",
    "gnb.fit(X_train, y_train)\n",
    "y_pred = gnb.predict(X_test)\n",
    "\n",
    "# Calculate different metrics\n",
    "print(metrics.accuracy_score(y_test, y_pred))\n",
    "print(metrics.classification_report(y_test, y_pred, digits=3))"
   ]
  },
  {
   "cell_type": "markdown",
   "metadata": {},
   "source": [
    "# Decision Tree Grid Search"
   ]
  },
  {
   "cell_type": "code",
   "execution_count": 6,
   "metadata": {},
   "outputs": [
    {
     "name": "stderr",
     "output_type": "stream",
     "text": [
      "INFO:root:Begin extract\n",
      "INFO:root:X shape: (1774, 9), y shape: (1774,)\n",
      "INFO:root:Begin Transformation\n"
     ]
    },
    {
     "name": "stdout",
     "output_type": "stream",
     "text": [
      "0.874296435272045\n",
      "             precision    recall  f1-score   support\n",
      "\n",
      " Nickelback      0.858     0.881     0.869       253\n",
      "    Pitbull      0.890     0.868     0.879       280\n",
      "\n",
      "avg / total      0.875     0.874     0.874       533\n",
      "\n"
     ]
    }
   ],
   "source": [
    "from sklearn.tree import DecisionTreeClassifier\n",
    "\n",
    "logging.getLogger().setLevel(logging.DEBUG)\n",
    "\n",
    "# Extract\n",
    "logging.info('Begin extract')\n",
    "df = pickle.load(open(\"df_music.pkl\", \"rb\"))\n",
    "y = df['Artist']\n",
    "X = df.drop('Artist', axis = 1)\n",
    "logging.info('X shape: {}, y shape: {}'.format(X.shape, y.shape))\n",
    "\n",
    "# Transform\n",
    "logging.info('Begin Transformation')\n",
    "X_train, X_test, y_train, y_test = train_test_split(X, y, test_size=.3, random_state = 444)\n",
    "\n",
    "# Fit and predict\n",
    "dtc = DecisionTreeClassifier()\n",
    "dtc.fit(X_train, y_train)\n",
    "y_pred = dtc.predict(X_test)\n",
    "\n",
    "# Calculate different metrics\n",
    "print(metrics.accuracy_score(y_test, y_pred))\n",
    "print(metrics.classification_report(y_test, y_pred, digits=3))"
   ]
  },
  {
   "cell_type": "markdown",
   "metadata": {},
   "source": [
    "# Random Forest Grid Search"
   ]
  },
  {
   "cell_type": "code",
   "execution_count": 7,
   "metadata": {},
   "outputs": [
    {
     "name": "stderr",
     "output_type": "stream",
     "text": [
      "INFO:root:Begin extract\n",
      "INFO:root:X shape: (1774, 9), y shape: (1774,)\n",
      "INFO:root:Begin Transformation\n"
     ]
    },
    {
     "name": "stdout",
     "output_type": "stream",
     "text": [
      "0.9193245778611632\n",
      "             precision    recall  f1-score   support\n",
      "\n",
      " Nickelback      0.913     0.917     0.915       253\n",
      "    Pitbull      0.925     0.921     0.923       280\n",
      "\n",
      "avg / total      0.919     0.919     0.919       533\n",
      "\n"
     ]
    }
   ],
   "source": [
    "from sklearn.ensemble import RandomForestClassifier\n",
    "\n",
    "logging.getLogger().setLevel(logging.DEBUG)\n",
    "\n",
    "# Extract\n",
    "logging.info('Begin extract')\n",
    "df = pickle.load(open(\"df_music.pkl\", \"rb\"))\n",
    "y = df['Artist']\n",
    "X = df.drop('Artist', axis = 1)\n",
    "logging.info('X shape: {}, y shape: {}'.format(X.shape, y.shape))\n",
    "\n",
    "# Transform\n",
    "logging.info('Begin Transformation')\n",
    "X_train, X_test, y_train, y_test = train_test_split(X, y, test_size=.3, random_state = 444)\n",
    "\n",
    "# Fit and predict\n",
    "rfc = RandomForestClassifier()\n",
    "rfc.fit(X_train, y_train)\n",
    "y_pred = rfc.predict(X_test)\n",
    "\n",
    "# Calculate different metrics\n",
    "print(metrics.accuracy_score(y_test, y_pred))\n",
    "print(metrics.classification_report(y_test, y_pred, digits=3))"
   ]
  },
  {
   "cell_type": "markdown",
   "metadata": {},
   "source": [
    "# Keras\n",
    "https://machinelearningmastery.com/multi-class-classification-tutorial-keras-deep-learning-library/"
   ]
  },
  {
   "cell_type": "code",
   "execution_count": 8,
   "metadata": {},
   "outputs": [],
   "source": [
    "# Plot model accuracy and loss\n",
    "def plot_model_history(model_history):\n",
    "    \n",
    "    fig, axs = plt.subplots(1,2,figsize=(21,7))\n",
    "    label_fontsize = 16\n",
    "    \n",
    "    # summarize history for accuracy\n",
    "    axs[0].plot(range(1,len(model_history.history['acc'])+1),model_history.history['acc'])\n",
    "    axs[0].plot(range(1,len(model_history.history['val_acc'])+1),model_history.history['val_acc'])\n",
    "    axs[0].set_title('Model Accuracy', fontsize=20)\n",
    "    axs[0].set_ylabel('Accuracy', fontsize = label_fontsize)\n",
    "    axs[0].set_xlabel('Epoch', fontsize = label_fontsize)\n",
    "    axs[0].set_xticks(np.arange(1,len(model_history.history['acc'])+1),len(model_history.history['acc'])/10)\n",
    "    axs[0].legend(['train', 'val'], loc='best')\n",
    "    \n",
    "    # summarize history for loss\n",
    "    axs[1].plot(range(1,len(model_history.history['loss'])+1),model_history.history['loss'])\n",
    "    axs[1].plot(range(1,len(model_history.history['val_loss'])+1),model_history.history['val_loss'])\n",
    "    axs[1].set_title('Model Loss', fontsize=20)\n",
    "    axs[1].set_ylabel('Loss', fontsize = label_fontsize)\n",
    "    axs[1].set_xlabel('Epoch', fontsize = label_fontsize)\n",
    "    axs[1].set_xticks(np.arange(1,len(model_history.history['loss'])+1),len(model_history.history['loss'])/10)\n",
    "    axs[1].legend(['train', 'val'], loc='best')\n",
    "    plt.show()\n",
    "    fig.savefig('Keras Librosa Features.jpg')"
   ]
  },
  {
   "cell_type": "code",
   "execution_count": 9,
   "metadata": {},
   "outputs": [
    {
     "name": "stderr",
     "output_type": "stream",
     "text": [
      "C:\\Users\\Owen\\Anaconda3\\lib\\site-packages\\h5py\\__init__.py:36: FutureWarning: Conversion of the second argument of issubdtype from `float` to `np.floating` is deprecated. In future, it will be treated as `np.float64 == np.dtype(float).type`.\n",
      "  from ._conv import register_converters as _register_converters\n",
      "Using TensorFlow backend.\n"
     ]
    }
   ],
   "source": [
    "# Imports\n",
    "import pickle\n",
    "import numpy as np\n",
    "from keras.models import Sequential\n",
    "from keras.layers import Dense, Dropout, Activation\n",
    "from keras.wrappers.scikit_learn import KerasClassifier\n",
    "from keras.utils import np_utils\n",
    "from keras.callbacks import EarlyStopping\n",
    "from sklearn.model_selection import cross_val_score\n",
    "from sklearn.model_selection import KFold\n",
    "from sklearn.preprocessing import LabelEncoder\n",
    "from sklearn.pipeline import Pipeline\n",
    "import matplotlib.pyplot as plt\n",
    "\n",
    "# Fix random seed for reproducibility\n",
    "seed = 7\n",
    "np.random.seed(seed)\n",
    "\n",
    "# Extract\n",
    "df = pickle.load(open(\"df_music.pkl\", \"rb\"))\n",
    "y = df['Artist']\n",
    "X = df.drop('Artist', axis = 1)\n",
    "\n",
    "# Scale the features\n",
    "scaler = StandardScaler()\n",
    "scaled_X = scaler.fit_transform(X)\n",
    "\n",
    "# One-hot encode \n",
    "# y_dummies = pd.get_dummies(y)\n",
    "\n",
    "# encode class values as integers\n",
    "encoder = LabelEncoder()\n",
    "encoder.fit(y)\n",
    "encoded_y = encoder.transform(y)\n",
    "\n",
    "# Train-test split\n",
    "X_train, X_test, y_train, y_test = train_test_split(scaled_X, encoded_y, test_size=.3, random_state = 444)"
   ]
  },
  {
   "cell_type": "code",
   "execution_count": 10,
   "metadata": {},
   "outputs": [
    {
     "name": "stderr",
     "output_type": "stream",
     "text": [
      "WARNING:tensorflow:From C:\\Users\\Owen\\Anaconda3\\lib\\site-packages\\keras\\backend\\tensorflow_backend.py:1290: calling reduce_mean (from tensorflow.python.ops.math_ops) with keep_dims is deprecated and will be removed in a future version.\n",
      "Instructions for updating:\n",
      "keep_dims is deprecated, use keepdims instead\n"
     ]
    },
    {
     "name": "stdout",
     "output_type": "stream",
     "text": [
      "\r",
      " 32/533 [>.............................] - ETA: 0s"
     ]
    },
    {
     "data": {
      "image/png": "[encoded data removed]",
      "text/plain": [
       "<matplotlib.figure.Figure at 0x23ce2eefb38>"
      ]
     },
     "metadata": {},
     "output_type": "display_data"
    },
    {
     "name": "stdout",
     "output_type": "stream",
     "text": [
      "\n",
      "0.8949343339587242\n",
      "\n",
      "             precision    recall  f1-score   support\n",
      "\n",
      "          0      0.916     0.858     0.886       253\n",
      "          1      0.878     0.929     0.903       280\n",
      "\n",
      "avg / total      0.896     0.895     0.895       533\n",
      "\n"
     ]
    }
   ],
   "source": [
    "def baseline_model():\n",
    "    \"\"\"Creating baseline dense neural network\"\"\"\n",
    "    \n",
    "    # create model\n",
    "    model = Sequential()\n",
    "    model.add(Dense(30, input_dim=9, kernel_initializer='normal', activation='relu')) # input\n",
    "    model.add(Dense(1, kernel_initializer='normal', activation='sigmoid'))\n",
    "    \n",
    "    # Compile model\n",
    "    model.compile(loss='binary_crossentropy', optimizer='adam', metrics=['accuracy']) # output\n",
    "    return model\n",
    "\n",
    "# Create the KerasClassifier for use in scikit-learn\n",
    "estimator = KerasClassifier(build_fn=baseline_model)\n",
    "\n",
    "# Define early stopping callback\n",
    "earlystop = EarlyStopping(monitor='val_acc', min_delta=0.0001, patience=200, verbose=0, mode='auto')\n",
    "callbacks_list = [earlystop]\n",
    "\n",
    "# Fit estimator\n",
    "model_info = estimator.fit(X_train, y_train, batch_size=300, epochs=1000, validation_split=0.1, verbose=0, callbacks=callbacks_list)\n",
    "\n",
    "# Predict\n",
    "y_pred = estimator.predict(X_test).flatten()\n",
    "\n",
    "# Plot model history\n",
    "plot_model_history(model_info)\n",
    "\n",
    "# Calculate different metrics\n",
    "print()\n",
    "print(metrics.accuracy_score(y_test, y_pred))\n",
    "print()\n",
    "print(metrics.classification_report(y_test, y_pred, digits=3))"
   ]
  }
 ],
 "metadata": {
  "kernelspec": {
   "display_name": "Python 3",
   "language": "python",
   "name": "python3"
  },
  "language_info": {
   "codemirror_mode": {
    "name": "ipython",
    "version": 3
   },
   "file_extension": ".py",
   "mimetype": "text/x-python",
   "name": "python",
   "nbconvert_exporter": "python",
   "pygments_lexer": "ipython3",
   "version": "3.6.4"
  }
 },
 "nbformat": 4,
 "nbformat_minor": 2
}
